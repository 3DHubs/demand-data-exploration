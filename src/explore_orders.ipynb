{
 "cells": [
  {
   "cell_type": "code",
   "execution_count": 44,
   "metadata": {},
   "outputs": [
    {
     "name": "stdout",
     "output_type": "stream",
     "text": [
      "The autoreload extension is already loaded. To reload it, use:\n",
      "  %reload_ext autoreload\n"
     ]
    }
   ],
   "source": [
    "# auoreload shenanigans\n",
    "%load_ext autoreload\n",
    "%autoreload 2"
   ]
  },
  {
   "cell_type": "code",
   "execution_count": 45,
   "metadata": {},
   "outputs": [],
   "source": [
    "from plotnine import (\n",
    "    scale_x_continuous,\n",
    "    scale_y_continuous,\n",
    "    scale_x_discrete,\n",
    ")\n",
    "import polars as pl\n",
    "\n",
    "from utils import transform_and_cmp_heights\n",
    "from utils import plot_bar\n",
    "from utils import get_percentages_and_concat\n",
    "from utils import plot_percentage_bars\n",
    "from utils import get_post_outliers_data\n",
    "from utils import filter_bad_orders\n",
    "from utils import pick_one_revision"
   ]
  },
  {
   "cell_type": "code",
   "execution_count": 46,
   "metadata": {},
   "outputs": [
    {
     "data": {
      "text/plain": [
       "<polars.config.Config at 0x7f0ad0277820>"
      ]
     },
     "execution_count": 46,
     "metadata": {},
     "output_type": "execute_result"
    }
   ],
   "source": [
    "pl.Config(fmt_str_lengths=50, set_tbl_rows=10)"
   ]
  },
  {
   "cell_type": "code",
   "execution_count": 47,
   "metadata": {},
   "outputs": [],
   "source": [
    "partition_by_cols = [\"quote_is_admin\", \"quote_is_freemailer\"]"
   ]
  },
  {
   "cell_type": "code",
   "execution_count": 48,
   "metadata": {},
   "outputs": [
    {
     "name": "stdout",
     "output_type": "stream",
     "text": [
      "Data found, loading...\n"
     ]
    }
   ],
   "source": [
    "df = get_post_outliers_data()"
   ]
  },
  {
   "cell_type": "code",
   "execution_count": 49,
   "metadata": {},
   "outputs": [
    {
     "name": "stdout",
     "output_type": "stream",
     "text": [
      "Height comparison \n",
      "Before: 2652877 \n",
      "After:  2510458 \n",
      "Diff:  -142419 (-5.37%)\n"
     ]
    }
   ],
   "source": [
    "df = filter_bad_orders(df)"
   ]
  },
  {
   "cell_type": "code",
   "execution_count": 50,
   "metadata": {},
   "outputs": [],
   "source": [
    "df_order_revs = df.group_by(\"order_uuid\", \"quote_uuid\", \"quote_revision\").agg(\n",
    "    pl.col(\"quote_is_freemailer\").first(), pl.col(\"quote_is_admin\").first()\n",
    ")"
   ]
  },
  {
   "cell_type": "code",
   "execution_count": 51,
   "metadata": {},
   "outputs": [
    {
     "name": "stderr",
     "output_type": "stream",
     "text": [
      "/home/rnd/miniconda3/envs/machining_quote-dev-gpu-v2/lib/python3.8/site-packages/plotnine/ggplot.py:587: PlotnineWarning: Saving 8 x 5 in image.\n",
      "/home/rnd/miniconda3/envs/machining_quote-dev-gpu-v2/lib/python3.8/site-packages/plotnine/ggplot.py:588: PlotnineWarning: Filename: /home/rnd/projects/demand-data-exploration/big_plots/quote_freemailer_count.png\n"
     ]
    }
   ],
   "source": [
    "plot_bar(df_order_revs, x=\"quote_is_freemailer\", y=\"len\").save(\n",
    "    filename=\"/home/rnd/projects/demand-data-exploration/big_plots/quote_freemailer_count.png\",\n",
    "    width=8,\n",
    "    height=5,\n",
    ")"
   ]
  },
  {
   "cell_type": "code",
   "execution_count": 52,
   "metadata": {},
   "outputs": [
    {
     "name": "stderr",
     "output_type": "stream",
     "text": [
      "/home/rnd/miniconda3/envs/machining_quote-dev-gpu-v2/lib/python3.8/site-packages/plotnine/ggplot.py:587: PlotnineWarning: Saving 8 x 5 in image.\n",
      "/home/rnd/miniconda3/envs/machining_quote-dev-gpu-v2/lib/python3.8/site-packages/plotnine/ggplot.py:588: PlotnineWarning: Filename: /home/rnd/projects/demand-data-exploration/big_plots/quote_is_admin_count.png\n"
     ]
    }
   ],
   "source": [
    "plot_bar(df_order_revs, x=\"quote_is_admin\", y=\"len\").save(\n",
    "    filename=\"/home/rnd/projects/demand-data-exploration/big_plots/quote_is_admin_count.png\",\n",
    "    width=8,\n",
    "    height=5,\n",
    ")"
   ]
  },
  {
   "cell_type": "code",
   "execution_count": 53,
   "metadata": {},
   "outputs": [
    {
     "name": "stdout",
     "output_type": "stream",
     "text": [
      "Height comparison \n",
      "Before: 2510458 \n",
      "After:  653578 \n",
      "Diff:  -1856880 (-73.97%)\n",
      "Height comparison \n",
      "Before: 653578 \n",
      "After:  423461 \n",
      "Diff:  -230117 (-35.21%)\n"
     ]
    }
   ],
   "source": [
    "df_order_level = pick_one_revision(df, debug=False, level=[\"order_uuid\", \"quote_uuid\"])"
   ]
  },
  {
   "cell_type": "code",
   "execution_count": 54,
   "metadata": {},
   "outputs": [
    {
     "name": "stderr",
     "output_type": "stream",
     "text": [
      "/home/rnd/miniconda3/envs/machining_quote-dev-gpu-v2/lib/python3.8/site-packages/plotnine/ggplot.py:587: PlotnineWarning: Saving 8 x 5 in image.\n",
      "/home/rnd/miniconda3/envs/machining_quote-dev-gpu-v2/lib/python3.8/site-packages/plotnine/ggplot.py:588: PlotnineWarning: Filename: /home/rnd/projects/demand-data-exploration/big_plots/quote_freemailer_count_one_rev.png\n"
     ]
    }
   ],
   "source": [
    "plot_bar(df_order_level, x=\"quote_is_freemailer\", y=\"len\").save(\n",
    "    filename=\"/home/rnd/projects/demand-data-exploration/big_plots/quote_freemailer_count_one_rev.png\",\n",
    "    width=8,\n",
    "    height=5,\n",
    ")"
   ]
  },
  {
   "cell_type": "code",
   "execution_count": 55,
   "metadata": {},
   "outputs": [
    {
     "name": "stderr",
     "output_type": "stream",
     "text": [
      "/home/rnd/miniconda3/envs/machining_quote-dev-gpu-v2/lib/python3.8/site-packages/plotnine/ggplot.py:587: PlotnineWarning: Saving 8 x 5 in image.\n",
      "/home/rnd/miniconda3/envs/machining_quote-dev-gpu-v2/lib/python3.8/site-packages/plotnine/ggplot.py:588: PlotnineWarning: Filename: /home/rnd/projects/demand-data-exploration/big_plots/quote_is_admin_count_one_rev.png\n"
     ]
    }
   ],
   "source": [
    "plot_bar(df_order_level, x=\"quote_is_admin\", y=\"len\").save(\n",
    "    filename=\"/home/rnd/projects/demand-data-exploration/big_plots/quote_is_admin_count_one_rev.png\",\n",
    "    width=8,\n",
    "    height=5,\n",
    ")"
   ]
  },
  {
   "cell_type": "code",
   "execution_count": null,
   "metadata": {},
   "outputs": [],
   "source": []
  },
  {
   "cell_type": "code",
   "execution_count": 56,
   "metadata": {},
   "outputs": [],
   "source": [
    "# Locked vs non-locked\n",
    "dfs = {\n",
    "    partition_col: (\n",
    "        df_order_level.with_columns(\n",
    "            locked=pl.col(\"quote_finalized_at\").is_not_null()\n",
    "        ).partition_by(by=[partition_col], as_dict=True)\n",
    "    )\n",
    "    for partition_col in partition_by_cols\n",
    "}\n",
    "\n",
    "df_locked_quote_type = get_percentages_and_concat(\n",
    "    dfs[\"quote_is_freemailer\"], count_col=\"locked\", group_col=\"quote_is_freemailer\"\n",
    ")\n",
    "\n",
    "df_locked_quote_internal = get_percentages_and_concat(\n",
    "    dfs[\"quote_is_admin\"], count_col=\"locked\", group_col=\"quote_is_admin\"\n",
    ")"
   ]
  },
  {
   "cell_type": "code",
   "execution_count": 57,
   "metadata": {},
   "outputs": [
    {
     "name": "stderr",
     "output_type": "stream",
     "text": [
      "/home/rnd/miniconda3/envs/machining_quote-dev-gpu-v2/lib/python3.8/site-packages/plotnine/ggplot.py:587: PlotnineWarning: Saving 8 x 5 in image.\n",
      "/home/rnd/miniconda3/envs/machining_quote-dev-gpu-v2/lib/python3.8/site-packages/plotnine/ggplot.py:588: PlotnineWarning: Filename: /home/rnd/projects/demand-data-exploration/big_plots/locked_perc_freemailer.png\n"
     ]
    }
   ],
   "source": [
    "plot_percentage_bars(\n",
    "    df_locked_quote_type,\n",
    "    x=\"locked\",\n",
    "    y=\"percentage_locked\",\n",
    "    facet_col=\"quote_is_freemailer\",\n",
    "    plot_extras=[scale_y_continuous(breaks=[x / 10 for x in range(0, 10)])],\n",
    ").save(\n",
    "    filename=\"/home/rnd/projects/demand-data-exploration/big_plots/locked_perc_freemailer.png\",\n",
    "    width=8,\n",
    "    height=5,\n",
    ")"
   ]
  },
  {
   "cell_type": "code",
   "execution_count": 58,
   "metadata": {},
   "outputs": [
    {
     "name": "stderr",
     "output_type": "stream",
     "text": [
      "/home/rnd/miniconda3/envs/machining_quote-dev-gpu-v2/lib/python3.8/site-packages/plotnine/ggplot.py:587: PlotnineWarning: Saving 8 x 5 in image.\n",
      "/home/rnd/miniconda3/envs/machining_quote-dev-gpu-v2/lib/python3.8/site-packages/plotnine/ggplot.py:588: PlotnineWarning: Filename: /home/rnd/projects/demand-data-exploration/big_plots/locked_perc_admin.png\n"
     ]
    }
   ],
   "source": [
    "plot_percentage_bars(\n",
    "    df_locked_quote_internal,\n",
    "    x=\"locked\",\n",
    "    y=\"percentage_locked\",\n",
    "    facet_col=\"quote_is_admin\",\n",
    "    plot_extras=[scale_y_continuous(breaks=[x / 10 for x in range(0, 10)])],\n",
    ").save(\n",
    "    filename=\"/home/rnd/projects/demand-data-exploration/big_plots/locked_perc_admin.png\",\n",
    "    width=8,\n",
    "    height=5,\n",
    ")"
   ]
  },
  {
   "cell_type": "code",
   "execution_count": 16,
   "metadata": {},
   "outputs": [
    {
     "data": {
      "text/html": [
       "<div><style>\n",
       ".dataframe > thead > tr,\n",
       ".dataframe > tbody > tr {\n",
       "  text-align: right;\n",
       "  white-space: pre-wrap;\n",
       "}\n",
       "</style>\n",
       "<small>shape: (4, 4)</small><table border=\"1\" class=\"dataframe\"><thead><tr><th>locked</th><th>count</th><th>percentage_locked</th><th>quote_is_admin</th></tr><tr><td>bool</td><td>u32</td><td>f64</td><td>bool</td></tr></thead><tbody><tr><td>true</td><td>84691</td><td>0.237576</td><td>false</td></tr><tr><td>false</td><td>271789</td><td>0.762424</td><td>false</td></tr><tr><td>false</td><td>21819</td><td>0.325749</td><td>true</td></tr><tr><td>true</td><td>45162</td><td>0.674251</td><td>true</td></tr></tbody></table></div>"
      ],
      "text/plain": [
       "shape: (4, 4)\n",
       "┌────────┬────────┬───────────────────┬────────────────┐\n",
       "│ locked ┆ count  ┆ percentage_locked ┆ quote_is_admin │\n",
       "│ ---    ┆ ---    ┆ ---               ┆ ---            │\n",
       "│ bool   ┆ u32    ┆ f64               ┆ bool           │\n",
       "╞════════╪════════╪═══════════════════╪════════════════╡\n",
       "│ true   ┆ 84691  ┆ 0.237576          ┆ false          │\n",
       "│ false  ┆ 271789 ┆ 0.762424          ┆ false          │\n",
       "│ false  ┆ 21819  ┆ 0.325749          ┆ true           │\n",
       "│ true   ┆ 45162  ┆ 0.674251          ┆ true           │\n",
       "└────────┴────────┴───────────────────┴────────────────┘"
      ]
     },
     "execution_count": 16,
     "metadata": {},
     "output_type": "execute_result"
    }
   ],
   "source": [
    "df_locked_quote_internal"
   ]
  },
  {
   "cell_type": "code",
   "execution_count": 17,
   "metadata": {},
   "outputs": [],
   "source": [
    "del dfs, df_locked_quote_type, df_locked_quote_internal"
   ]
  },
  {
   "cell_type": "code",
   "execution_count": 26,
   "metadata": {},
   "outputs": [],
   "source": [
    "is_hubs_email = (\n",
    "    pl.col(\"email\").str.contains(\"3dhubs.com\")\n",
    "    | pl.col(\"email\").str.contains(\"hubs.com\")\n",
    "    | pl.col(\"email\").str.contains(\"pthubs.com\")\n",
    ")\n",
    "\n",
    "df_order_level = df_order_level.with_columns(is_hubs_email=is_hubs_email)"
   ]
  },
  {
   "cell_type": "code",
   "execution_count": 22,
   "metadata": {},
   "outputs": [
    {
     "name": "stdout",
     "output_type": "stream",
     "text": [
      "16271 / 66981 = 0.24\n"
     ]
    }
   ],
   "source": [
    "hubs_admin_quotes = df_order_level.filter(\n",
    "    is_hubs_email, pl.col(\"quote_is_admin\")\n",
    ").height\n",
    "\n",
    "admin_quotes = df_order_level.filter(pl.col(\"quote_is_admin\")).height\n",
    "\n",
    "print(f\"{hubs_admin_quotes} / {admin_quotes} = {hubs_admin_quotes / admin_quotes:.2f}\")"
   ]
  },
  {
   "cell_type": "code",
   "execution_count": 25,
   "metadata": {},
   "outputs": [
    {
     "name": "stdout",
     "output_type": "stream",
     "text": [
      "2014 / 45162 = 0.04\n"
     ]
    }
   ],
   "source": [
    "hubs_admin_quotes = df_order_level.filter(\n",
    "    is_hubs_email,\n",
    "    pl.col(\"quote_is_admin\"),\n",
    "    pl.col(\"quote_finalized_at\").is_not_null(),\n",
    ").height\n",
    "\n",
    "admin_quotes = df_order_level.filter(\n",
    "    pl.col(\"quote_is_admin\"), pl.col(\"quote_finalized_at\").is_not_null()\n",
    ").height\n",
    "\n",
    "print(f\"{hubs_admin_quotes} / {admin_quotes} = {hubs_admin_quotes / admin_quotes:.2f}\")"
   ]
  },
  {
   "cell_type": "code",
   "execution_count": 20,
   "metadata": {},
   "outputs": [
    {
     "data": {
      "text/html": [
       "<div><style>\n",
       ".dataframe > thead > tr,\n",
       ".dataframe > tbody > tr {\n",
       "  text-align: right;\n",
       "  white-space: pre-wrap;\n",
       "}\n",
       "</style>\n",
       "<small>shape: (10, 2)</small><table border=\"1\" class=\"dataframe\"><thead><tr><th>quote_email_provider</th><th>count</th></tr><tr><td>str</td><td>u32</td></tr></thead><tbody><tr><td>&quot;hubs.com&quot;</td><td>12421</td></tr><tr><td>&quot;3dhubs.com&quot;</td><td>3850</td></tr><tr><td>&quot;gmail.com&quot;</td><td>1170</td></tr><tr><td>&quot;protolabs.de&quot;</td><td>631</td></tr><tr><td>&quot;protolabs.com&quot;</td><td>582</td></tr><tr><td>&quot;fresenius-kabi.com&quot;</td><td>527</td></tr><tr><td>&quot;npcitaly.com&quot;</td><td>523</td></tr><tr><td>&quot;rapidobject.com&quot;</td><td>479</td></tr><tr><td>&quot;ifm.com&quot;</td><td>334</td></tr><tr><td>&quot;smart-solutions.co.il&quot;</td><td>247</td></tr></tbody></table></div>"
      ],
      "text/plain": [
       "shape: (10, 2)\n",
       "┌───────────────────────┬───────┐\n",
       "│ quote_email_provider  ┆ count │\n",
       "│ ---                   ┆ ---   │\n",
       "│ str                   ┆ u32   │\n",
       "╞═══════════════════════╪═══════╡\n",
       "│ hubs.com              ┆ 12421 │\n",
       "│ 3dhubs.com            ┆ 3850  │\n",
       "│ gmail.com             ┆ 1170  │\n",
       "│ protolabs.de          ┆ 631   │\n",
       "│ protolabs.com         ┆ 582   │\n",
       "│ fresenius-kabi.com    ┆ 527   │\n",
       "│ npcitaly.com          ┆ 523   │\n",
       "│ rapidobject.com       ┆ 479   │\n",
       "│ ifm.com               ┆ 334   │\n",
       "│ smart-solutions.co.il ┆ 247   │\n",
       "└───────────────────────┴───────┘"
      ]
     },
     "execution_count": 20,
     "metadata": {},
     "output_type": "execute_result"
    }
   ],
   "source": [
    "df_order_level.filter(pl.col(\"quote_is_admin\"))[\n",
    "    \"quote_email_provider\"\n",
    "].value_counts().sort(\"count\", descending=True)[:10]"
   ]
  },
  {
   "cell_type": "code",
   "execution_count": 42,
   "metadata": {},
   "outputs": [
    {
     "data": {
      "text/html": [
       "<div><style>\n",
       ".dataframe > thead > tr,\n",
       ".dataframe > tbody > tr {\n",
       "  text-align: right;\n",
       "  white-space: pre-wrap;\n",
       "}\n",
       "</style>\n",
       "<small>shape: (2, 2)</small><table border=\"1\" class=\"dataframe\"><thead><tr><th>is_hubs_email</th><th>count</th></tr><tr><td>bool</td><td>u32</td></tr></thead><tbody><tr><td>false</td><td>43148</td></tr><tr><td>true</td><td>2014</td></tr></tbody></table></div>"
      ],
      "text/plain": [
       "shape: (2, 2)\n",
       "┌───────────────┬───────┐\n",
       "│ is_hubs_email ┆ count │\n",
       "│ ---           ┆ ---   │\n",
       "│ bool          ┆ u32   │\n",
       "╞═══════════════╪═══════╡\n",
       "│ false         ┆ 43148 │\n",
       "│ true          ┆ 2014  │\n",
       "└───────────────┴───────┘"
      ]
     },
     "execution_count": 42,
     "metadata": {},
     "output_type": "execute_result"
    }
   ],
   "source": [
    "df_order_level.filter(\n",
    "    pl.col(\"quote_is_admin\"), pl.col(\"quote_finalized_at\").is_not_null()\n",
    ")[\"is_hubs_email\"].value_counts().sort(\"count\", descending=True)"
   ]
  },
  {
   "cell_type": "code",
   "execution_count": 21,
   "metadata": {},
   "outputs": [
    {
     "data": {
      "text/html": [
       "<div><style>\n",
       ".dataframe > thead > tr,\n",
       ".dataframe > tbody > tr {\n",
       "  text-align: right;\n",
       "  white-space: pre-wrap;\n",
       "}\n",
       "</style>\n",
       "<small>shape: (10, 2)</small><table border=\"1\" class=\"dataframe\"><thead><tr><th>quote_email_provider</th><th>count</th></tr><tr><td>str</td><td>u32</td></tr></thead><tbody><tr><td>&quot;gmail.com&quot;</td><td>1170</td></tr><tr><td>&quot;protolabs.de&quot;</td><td>631</td></tr><tr><td>&quot;protolabs.com&quot;</td><td>582</td></tr><tr><td>&quot;fresenius-kabi.com&quot;</td><td>527</td></tr><tr><td>&quot;npcitaly.com&quot;</td><td>523</td></tr><tr><td>&quot;rapidobject.com&quot;</td><td>479</td></tr><tr><td>&quot;ifm.com&quot;</td><td>334</td></tr><tr><td>&quot;smart-solutions.co.il&quot;</td><td>247</td></tr><tr><td>&quot;prodrive-technologies.com&quot;</td><td>240</td></tr><tr><td>&quot;protolabs.it&quot;</td><td>226</td></tr></tbody></table></div>"
      ],
      "text/plain": [
       "shape: (10, 2)\n",
       "┌───────────────────────────┬───────┐\n",
       "│ quote_email_provider      ┆ count │\n",
       "│ ---                       ┆ ---   │\n",
       "│ str                       ┆ u32   │\n",
       "╞═══════════════════════════╪═══════╡\n",
       "│ gmail.com                 ┆ 1170  │\n",
       "│ protolabs.de              ┆ 631   │\n",
       "│ protolabs.com             ┆ 582   │\n",
       "│ fresenius-kabi.com        ┆ 527   │\n",
       "│ npcitaly.com              ┆ 523   │\n",
       "│ rapidobject.com           ┆ 479   │\n",
       "│ ifm.com                   ┆ 334   │\n",
       "│ smart-solutions.co.il     ┆ 247   │\n",
       "│ prodrive-technologies.com ┆ 240   │\n",
       "│ protolabs.it              ┆ 226   │\n",
       "└───────────────────────────┴───────┘"
      ]
     },
     "execution_count": 21,
     "metadata": {},
     "output_type": "execute_result"
    }
   ],
   "source": [
    "df_order_level.filter(~is_hubs_email, pl.col(\"quote_is_admin\"))[\n",
    "    \"quote_email_provider\"\n",
    "].value_counts().sort(\"count\", descending=True)[:10]"
   ]
  },
  {
   "cell_type": "code",
   "execution_count": 29,
   "metadata": {},
   "outputs": [
    {
     "name": "stderr",
     "output_type": "stream",
     "text": [
      "Could not memory_map compressed IPC file, defaulting to normal read. Toggle off 'memory_map' to silence this warning.\n"
     ]
    }
   ],
   "source": [
    "df_after_prep = pl.read_ipc(\n",
    "    \"/home/rnd/projects/demand-data-exploration/data/demand_order_data.feather\"\n",
    ").rename({\"revision\": \"quote_revision\"})"
   ]
  },
  {
   "cell_type": "code",
   "execution_count": 38,
   "metadata": {},
   "outputs": [
    {
     "name": "stdout",
     "output_type": "stream",
     "text": [
      "Height comparison \n",
      "Before: 614038 \n",
      "After:  291364 \n",
      "Diff:  -322674 (-52.55%)\n",
      "Height comparison \n",
      "Before: 291364 \n",
      "After:  291357 \n",
      "Diff:  -7 (-0.00%)\n"
     ]
    }
   ],
   "source": [
    "df_after_prep_order_level = pick_one_revision(\n",
    "    df_after_prep, level=[\"order_uuid\", \"quote_uuid\"], debug=False\n",
    ")"
   ]
  },
  {
   "cell_type": "code",
   "execution_count": 40,
   "metadata": {},
   "outputs": [
    {
     "data": {
      "text/html": [
       "<div><style>\n",
       ".dataframe > thead > tr,\n",
       ".dataframe > tbody > tr {\n",
       "  text-align: right;\n",
       "  white-space: pre-wrap;\n",
       "}\n",
       "</style>\n",
       "<small>shape: (2, 2)</small><table border=\"1\" class=\"dataframe\"><thead><tr><th>is_hubs_email</th><th>count</th></tr><tr><td>bool</td><td>u32</td></tr></thead><tbody><tr><td>null</td><td>6</td></tr><tr><td>false</td><td>32561</td></tr></tbody></table></div>"
      ],
      "text/plain": [
       "shape: (2, 2)\n",
       "┌───────────────┬───────┐\n",
       "│ is_hubs_email ┆ count │\n",
       "│ ---           ┆ ---   │\n",
       "│ bool          ┆ u32   │\n",
       "╞═══════════════╪═══════╡\n",
       "│ null          ┆ 6     │\n",
       "│ false         ┆ 32561 │\n",
       "└───────────────┴───────┘"
      ]
     },
     "execution_count": 40,
     "metadata": {},
     "output_type": "execute_result"
    }
   ],
   "source": [
    "df_after_prep_order_level = df_after_prep_order_level.with_columns(\n",
    "    is_hubs_email=is_hubs_email\n",
    ")\n",
    "\n",
    "df_after_prep_order_level.filter(pl.col(\"is_admin\"))[\"is_hubs_email\"].value_counts()"
   ]
  },
  {
   "cell_type": "code",
   "execution_count": null,
   "metadata": {},
   "outputs": [],
   "source": []
  }
 ],
 "metadata": {
  "kernelspec": {
   "display_name": "machining_quote-dev-gpu-v2",
   "language": "python",
   "name": "python3"
  },
  "language_info": {
   "codemirror_mode": {
    "name": "ipython",
    "version": 3
   },
   "file_extension": ".py",
   "mimetype": "text/x-python",
   "name": "python",
   "nbconvert_exporter": "python",
   "pygments_lexer": "ipython3",
   "version": "3.8.17"
  }
 },
 "nbformat": 4,
 "nbformat_minor": 2
}
