{
 "cells": [
  {
   "cell_type": "code",
   "execution_count": 1,
   "metadata": {},
   "outputs": [],
   "source": [
    "# auoreload shenanigans\n",
    "%load_ext autoreload\n",
    "%autoreload 2"
   ]
  },
  {
   "cell_type": "code",
   "execution_count": 2,
   "metadata": {},
   "outputs": [],
   "source": [
    "import polars as pl"
   ]
  },
  {
   "cell_type": "code",
   "execution_count": 3,
   "metadata": {},
   "outputs": [
    {
     "name": "stdout",
     "output_type": "stream",
     "text": [
      "Clean data found, loading...\n"
     ]
    }
   ],
   "source": [
    "from utils import get_analysis_data\n",
    "\n",
    "\n",
    "df = get_analysis_data()"
   ]
  },
  {
   "cell_type": "code",
   "execution_count": 4,
   "metadata": {},
   "outputs": [
    {
     "data": {
      "text/plain": [
       "<polars.config.Config at 0x7fbb943d0fd0>"
      ]
     },
     "execution_count": 4,
     "metadata": {},
     "output_type": "execute_result"
    }
   ],
   "source": [
    "pl.Config(fmt_str_lengths=50, set_tbl_rows=50)"
   ]
  },
  {
   "cell_type": "code",
   "execution_count": 5,
   "metadata": {},
   "outputs": [
    {
     "data": {
      "text/plain": [
       "['shipping_address_email', 'user_email', 'anonymous_user_email', 'email']"
      ]
     },
     "execution_count": 5,
     "metadata": {},
     "output_type": "execute_result"
    }
   ],
   "source": [
    "[x for x in df.columns if \"email\" in x]"
   ]
  },
  {
   "cell_type": "code",
   "execution_count": 6,
   "metadata": {},
   "outputs": [
    {
     "data": {
      "text/html": [
       "<div><style>\n",
       ".dataframe > thead > tr,\n",
       ".dataframe > tbody > tr {\n",
       "  text-align: right;\n",
       "  white-space: pre-wrap;\n",
       "}\n",
       "</style>\n",
       "<small>shape: (20, 2)</small><table border=\"1\" class=\"dataframe\"><thead><tr><th>email</th><th>count</th></tr><tr><td>str</td><td>u32</td></tr></thead><tbody><tr><td>&quot;DD_test@pthubs.com&quot;</td><td>1369948</td></tr><tr><td>null</td><td>342704</td></tr><tr><td>&quot;test@hubs.com&quot;</td><td>107788</td></tr><tr><td>&quot;hello123@gmail.com&quot;</td><td>19639</td></tr><tr><td>&quot;yiyam13645@zevars.com&quot;</td><td>17952</td></tr><tr><td>&quot;purchasing@rndautomation.com&quot;</td><td>9470</td></tr><tr><td>&quot;acquisti@npcitaly.com&quot;</td><td>9320</td></tr><tr><td>&quot;maxim@smart-solutions.co.il&quot;</td><td>8718</td></tr><tr><td>&quot;alexander.bergsma@3dhubs.com&quot;</td><td>7382</td></tr><tr><td>&quot;paul.king@hubs.com&quot;</td><td>7328</td></tr><tr><td>&quot;anonymizedca9f2c10-99fd-4316-81ae-0a23f01eceea@3dh…</td><td>6861</td></tr><tr><td>&quot;ilaria.tagliafierro@protolabs.it&quot;</td><td>6334</td></tr><tr><td>&quot;d_moretti2@protonmail.com&quot;</td><td>6306</td></tr><tr><td>&quot;customerservice-network@protolabs.com&quot;</td><td>6154</td></tr><tr><td>&quot;martin.suenderhauf@rapidobject.com&quot;</td><td>6085</td></tr><tr><td>&quot;lucero.rondon@fresenius-kabi.com&quot;</td><td>5808</td></tr><tr><td>&quot;gadi.afek@quantum-art.tech&quot;</td><td>5582</td></tr><tr><td>&quot;bastien.dupel@hubs.com&quot;</td><td>5372</td></tr><tr><td>&quot;compras@a-v-s.es&quot;</td><td>5332</td></tr><tr><td>&quot;simonas.seskevicius@hubs.com&quot;</td><td>5250</td></tr></tbody></table></div>"
      ],
      "text/plain": [
       "shape: (20, 2)\n",
       "┌─────────────────────────────────────────────────────┬─────────┐\n",
       "│ email                                               ┆ count   │\n",
       "│ ---                                                 ┆ ---     │\n",
       "│ str                                                 ┆ u32     │\n",
       "╞═════════════════════════════════════════════════════╪═════════╡\n",
       "│ DD_test@pthubs.com                                  ┆ 1369948 │\n",
       "│ null                                                ┆ 342704  │\n",
       "│ test@hubs.com                                       ┆ 107788  │\n",
       "│ hello123@gmail.com                                  ┆ 19639   │\n",
       "│ yiyam13645@zevars.com                               ┆ 17952   │\n",
       "│ purchasing@rndautomation.com                        ┆ 9470    │\n",
       "│ acquisti@npcitaly.com                               ┆ 9320    │\n",
       "│ maxim@smart-solutions.co.il                         ┆ 8718    │\n",
       "│ alexander.bergsma@3dhubs.com                        ┆ 7382    │\n",
       "│ paul.king@hubs.com                                  ┆ 7328    │\n",
       "│ anonymizedca9f2c10-99fd-4316-81ae-0a23f01eceea@3dh… ┆ 6861    │\n",
       "│ ilaria.tagliafierro@protolabs.it                    ┆ 6334    │\n",
       "│ d_moretti2@protonmail.com                           ┆ 6306    │\n",
       "│ customerservice-network@protolabs.com               ┆ 6154    │\n",
       "│ martin.suenderhauf@rapidobject.com                  ┆ 6085    │\n",
       "│ lucero.rondon@fresenius-kabi.com                    ┆ 5808    │\n",
       "│ gadi.afek@quantum-art.tech                          ┆ 5582    │\n",
       "│ bastien.dupel@hubs.com                              ┆ 5372    │\n",
       "│ compras@a-v-s.es                                    ┆ 5332    │\n",
       "│ simonas.seskevicius@hubs.com                        ┆ 5250    │\n",
       "└─────────────────────────────────────────────────────┴─────────┘"
      ]
     },
     "execution_count": 6,
     "metadata": {},
     "output_type": "execute_result"
    }
   ],
   "source": [
    "# top N most active users\n",
    "df.get_column(\"email\").value_counts().sort(by=\"count\", descending=True).head(20)"
   ]
  },
  {
   "cell_type": "code",
   "execution_count": 7,
   "metadata": {},
   "outputs": [
    {
     "data": {
      "text/html": [
       "<div><style>\n",
       ".dataframe > thead > tr,\n",
       ".dataframe > tbody > tr {\n",
       "  text-align: right;\n",
       "  white-space: pre-wrap;\n",
       "}\n",
       "</style>\n",
       "<small>shape: (20, 2)</small><table border=\"1\" class=\"dataframe\"><thead><tr><th>email</th><th>count</th></tr><tr><td>str</td><td>u32</td></tr></thead><tbody><tr><td>&quot;DD_test@pthubs.com&quot;</td><td>1369948</td></tr><tr><td>&quot;test@hubs.com&quot;</td><td>107788</td></tr><tr><td>&quot;alexander.bergsma@3dhubs.com&quot;</td><td>7382</td></tr><tr><td>&quot;paul.king@hubs.com&quot;</td><td>7328</td></tr><tr><td>&quot;anonymizedca9f2c10-99fd-4316-81ae-0a23f01eceea@3dh…</td><td>6861</td></tr><tr><td>&quot;bastien.dupel@hubs.com&quot;</td><td>5372</td></tr><tr><td>&quot;simonas.seskevicius@hubs.com&quot;</td><td>5250</td></tr><tr><td>&quot;emre@hubs.com&quot;</td><td>5193</td></tr><tr><td>&quot;vincent.lesiou@hubs.com&quot;</td><td>4258</td></tr><tr><td>&quot;shane.admiraal@hubs.com&quot;</td><td>3697</td></tr><tr><td>&quot;daniel.loeser@hubs.com&quot;</td><td>3473</td></tr><tr><td>&quot;eren.yucel@hubs.com&quot;</td><td>3128</td></tr><tr><td>&quot;jack.jackson@hubs.com&quot;</td><td>2937</td></tr><tr><td>&quot;tommaso.barzocchi@hubs.com&quot;</td><td>2579</td></tr><tr><td>&quot;ignacio.esnaola@hubs.com&quot;</td><td>2333</td></tr><tr><td>&quot;david.zavacki@hubs.com&quot;</td><td>2287</td></tr><tr><td>&quot;nicolas@3dhubs.com&quot;</td><td>2228</td></tr><tr><td>&quot;jakob.sachs@hubs.com&quot;</td><td>2209</td></tr><tr><td>&quot;dominik@3dhubs.com&quot;</td><td>2190</td></tr><tr><td>&quot;artur@hubs.com&quot;</td><td>2110</td></tr></tbody></table></div>"
      ],
      "text/plain": [
       "shape: (20, 2)\n",
       "┌─────────────────────────────────────────────────────┬─────────┐\n",
       "│ email                                               ┆ count   │\n",
       "│ ---                                                 ┆ ---     │\n",
       "│ str                                                 ┆ u32     │\n",
       "╞═════════════════════════════════════════════════════╪═════════╡\n",
       "│ DD_test@pthubs.com                                  ┆ 1369948 │\n",
       "│ test@hubs.com                                       ┆ 107788  │\n",
       "│ alexander.bergsma@3dhubs.com                        ┆ 7382    │\n",
       "│ paul.king@hubs.com                                  ┆ 7328    │\n",
       "│ anonymizedca9f2c10-99fd-4316-81ae-0a23f01eceea@3dh… ┆ 6861    │\n",
       "│ bastien.dupel@hubs.com                              ┆ 5372    │\n",
       "│ simonas.seskevicius@hubs.com                        ┆ 5250    │\n",
       "│ emre@hubs.com                                       ┆ 5193    │\n",
       "│ vincent.lesiou@hubs.com                             ┆ 4258    │\n",
       "│ shane.admiraal@hubs.com                             ┆ 3697    │\n",
       "│ daniel.loeser@hubs.com                              ┆ 3473    │\n",
       "│ eren.yucel@hubs.com                                 ┆ 3128    │\n",
       "│ jack.jackson@hubs.com                               ┆ 2937    │\n",
       "│ tommaso.barzocchi@hubs.com                          ┆ 2579    │\n",
       "│ ignacio.esnaola@hubs.com                            ┆ 2333    │\n",
       "│ david.zavacki@hubs.com                              ┆ 2287    │\n",
       "│ nicolas@3dhubs.com                                  ┆ 2228    │\n",
       "│ jakob.sachs@hubs.com                                ┆ 2209    │\n",
       "│ dominik@3dhubs.com                                  ┆ 2190    │\n",
       "│ artur@hubs.com                                      ┆ 2110    │\n",
       "└─────────────────────────────────────────────────────┴─────────┘"
      ]
     },
     "execution_count": 7,
     "metadata": {},
     "output_type": "execute_result"
    }
   ],
   "source": [
    "# top N most active users with emails ending with hubs.com\n",
    "df.filter(pl.col(\"email\").str.ends_with(\"hubs.com\")).get_column(\n",
    "    \"email\"\n",
    ").value_counts().sort(by=\"count\", descending=True).head(20)"
   ]
  },
  {
   "cell_type": "code",
   "execution_count": 8,
   "metadata": {},
   "outputs": [
    {
     "data": {
      "text/html": [
       "<div><style>\n",
       ".dataframe > thead > tr,\n",
       ".dataframe > tbody > tr {\n",
       "  text-align: right;\n",
       "  white-space: pre-wrap;\n",
       "}\n",
       "</style>\n",
       "<small>shape: (20, 2)</small><table border=\"1\" class=\"dataframe\"><thead><tr><th>email</th><th>count</th></tr><tr><td>str</td><td>u32</td></tr></thead><tbody><tr><td>&quot;ilaria.tagliafierro@protolabs.it&quot;</td><td>6334</td></tr><tr><td>&quot;customerservice-network@protolabs.com&quot;</td><td>6154</td></tr><tr><td>&quot;brigitte.musche@protolabs.de&quot;</td><td>3963</td></tr><tr><td>&quot;customerservice-network@protolabs.co.uk&quot;</td><td>3513</td></tr><tr><td>&quot;felix.drab@protolabs.de&quot;</td><td>3505</td></tr><tr><td>&quot;riccardo.pisoni@protolabs.it&quot;</td><td>2349</td></tr><tr><td>&quot;alberto.sebastiani@protolabs.it&quot;</td><td>2270</td></tr><tr><td>&quot;stefano.mosca@protolabs.it&quot;</td><td>1928</td></tr><tr><td>&quot;dominik.dipalo@protolabs.de&quot;</td><td>1898</td></tr><tr><td>&quot;customerservice@protolabs.co.jp&quot;</td><td>1470</td></tr><tr><td>&quot;steffen.gloeckner@protolabs.de&quot;</td><td>1454</td></tr><tr><td>&quot;christian.bracco@protolabs.it&quot;</td><td>1428</td></tr><tr><td>&quot;nh-purchasing@protolabs.com&quot;</td><td>1213</td></tr><tr><td>&quot;viktor.poess@protolabs.de&quot;</td><td>1192</td></tr><tr><td>&quot;amine.alnaasan@protolabs.fr&quot;</td><td>1128</td></tr><tr><td>&quot;xavier.pons@protolabs.fr&quot;</td><td>1035</td></tr><tr><td>&quot;verena.thumm@protolabs.de&quot;</td><td>938</td></tr><tr><td>&quot;thomas.vogl@protolabs.de&quot;</td><td>856</td></tr><tr><td>&quot;yoshio.koyama@protolabs.co.jp&quot;</td><td>832</td></tr><tr><td>&quot;vincent.perrot@protolabs.fr&quot;</td><td>809</td></tr></tbody></table></div>"
      ],
      "text/plain": [
       "shape: (20, 2)\n",
       "┌─────────────────────────────────────────┬───────┐\n",
       "│ email                                   ┆ count │\n",
       "│ ---                                     ┆ ---   │\n",
       "│ str                                     ┆ u32   │\n",
       "╞═════════════════════════════════════════╪═══════╡\n",
       "│ ilaria.tagliafierro@protolabs.it        ┆ 6334  │\n",
       "│ customerservice-network@protolabs.com   ┆ 6154  │\n",
       "│ brigitte.musche@protolabs.de            ┆ 3963  │\n",
       "│ customerservice-network@protolabs.co.uk ┆ 3513  │\n",
       "│ felix.drab@protolabs.de                 ┆ 3505  │\n",
       "│ riccardo.pisoni@protolabs.it            ┆ 2349  │\n",
       "│ alberto.sebastiani@protolabs.it         ┆ 2270  │\n",
       "│ stefano.mosca@protolabs.it              ┆ 1928  │\n",
       "│ dominik.dipalo@protolabs.de             ┆ 1898  │\n",
       "│ customerservice@protolabs.co.jp         ┆ 1470  │\n",
       "│ steffen.gloeckner@protolabs.de          ┆ 1454  │\n",
       "│ christian.bracco@protolabs.it           ┆ 1428  │\n",
       "│ nh-purchasing@protolabs.com             ┆ 1213  │\n",
       "│ viktor.poess@protolabs.de               ┆ 1192  │\n",
       "│ amine.alnaasan@protolabs.fr             ┆ 1128  │\n",
       "│ xavier.pons@protolabs.fr                ┆ 1035  │\n",
       "│ verena.thumm@protolabs.de               ┆ 938   │\n",
       "│ thomas.vogl@protolabs.de                ┆ 856   │\n",
       "│ yoshio.koyama@protolabs.co.jp           ┆ 832   │\n",
       "│ vincent.perrot@protolabs.fr             ┆ 809   │\n",
       "└─────────────────────────────────────────┴───────┘"
      ]
     },
     "execution_count": 8,
     "metadata": {},
     "output_type": "execute_result"
    }
   ],
   "source": [
    "# top N most active users with emails that contain protolabs\n",
    "df.filter(pl.col(\"email\").str.contains(\"protolabs\")).get_column(\n",
    "    \"email\"\n",
    ").value_counts().sort(by=\"count\", descending=True).head(20)"
   ]
  },
  {
   "cell_type": "code",
   "execution_count": 9,
   "metadata": {},
   "outputs": [
    {
     "data": {
      "text/html": [
       "<div><style>\n",
       ".dataframe > thead > tr,\n",
       ".dataframe > tbody > tr {\n",
       "  text-align: right;\n",
       "  white-space: pre-wrap;\n",
       "}\n",
       "</style>\n",
       "<small>shape: (20, 2)</small><table border=\"1\" class=\"dataframe\"><thead><tr><th>email</th><th>count</th></tr><tr><td>str</td><td>u32</td></tr></thead><tbody><tr><td>&quot;DD_test@pthubs.com&quot;</td><td>1369948</td></tr><tr><td>&quot;test@hubs.com&quot;</td><td>107788</td></tr><tr><td>&quot;amoffett@atsi-tester.com&quot;</td><td>833</td></tr><tr><td>&quot;benicio.colaco@dvtest.com&quot;</td><td>731</td></tr><tr><td>&quot;test@gmail.com&quot;</td><td>455</td></tr><tr><td>&quot;sandy.torchia@dvtest.com&quot;</td><td>239</td></tr><tr><td>&quot;securitytesting1@netspi.com&quot;</td><td>201</td></tr><tr><td>&quot;neubert@rheotest.de&quot;</td><td>145</td></tr><tr><td>&quot;fabio.colella@dvtest.com&quot;</td><td>120</td></tr><tr><td>&quot;kingatest.acc@gmail.com&quot;</td><td>91</td></tr><tr><td>&quot;derek.kedziora+test3@hubs.com&quot;</td><td>86</td></tr><tr><td>&quot;dcully@cincinnati-test.com&quot;</td><td>79</td></tr><tr><td>&quot;etienne.testard@cea.fr&quot;</td><td>77</td></tr><tr><td>&quot;andrew.arsenault@dvtest.com&quot;</td><td>77</td></tr><tr><td>&quot;cdewallace@testdevices.com&quot;</td><td>75</td></tr><tr><td>&quot;clement.notermans@elysia-raytest.com&quot;</td><td>69</td></tr><tr><td>&quot;eliana@testview.co.il&quot;</td><td>60</td></tr><tr><td>&quot;test123@hubs.com&quot;</td><td>52</td></tr><tr><td>&quot;testingnov+1@derekkedziora.com&quot;</td><td>41</td></tr><tr><td>&quot;procurement@stb-tester.com&quot;</td><td>35</td></tr></tbody></table></div>"
      ],
      "text/plain": [
       "shape: (20, 2)\n",
       "┌──────────────────────────────────────┬─────────┐\n",
       "│ email                                ┆ count   │\n",
       "│ ---                                  ┆ ---     │\n",
       "│ str                                  ┆ u32     │\n",
       "╞══════════════════════════════════════╪═════════╡\n",
       "│ DD_test@pthubs.com                   ┆ 1369948 │\n",
       "│ test@hubs.com                        ┆ 107788  │\n",
       "│ amoffett@atsi-tester.com             ┆ 833     │\n",
       "│ benicio.colaco@dvtest.com            ┆ 731     │\n",
       "│ test@gmail.com                       ┆ 455     │\n",
       "│ sandy.torchia@dvtest.com             ┆ 239     │\n",
       "│ securitytesting1@netspi.com          ┆ 201     │\n",
       "│ neubert@rheotest.de                  ┆ 145     │\n",
       "│ fabio.colella@dvtest.com             ┆ 120     │\n",
       "│ kingatest.acc@gmail.com              ┆ 91      │\n",
       "│ derek.kedziora+test3@hubs.com        ┆ 86      │\n",
       "│ dcully@cincinnati-test.com           ┆ 79      │\n",
       "│ etienne.testard@cea.fr               ┆ 77      │\n",
       "│ andrew.arsenault@dvtest.com          ┆ 77      │\n",
       "│ cdewallace@testdevices.com           ┆ 75      │\n",
       "│ clement.notermans@elysia-raytest.com ┆ 69      │\n",
       "│ eliana@testview.co.il                ┆ 60      │\n",
       "│ test123@hubs.com                     ┆ 52      │\n",
       "│ testingnov+1@derekkedziora.com       ┆ 41      │\n",
       "│ procurement@stb-tester.com           ┆ 35      │\n",
       "└──────────────────────────────────────┴─────────┘"
      ]
     },
     "execution_count": 9,
     "metadata": {},
     "output_type": "execute_result"
    }
   ],
   "source": [
    "# top N most active users that have \"test\" in their email\n",
    "df.filter(pl.col(\"email\").str.contains(\"test\")).get_column(\"email\").value_counts().sort(\n",
    "    by=\"count\", descending=True\n",
    ").head(20)"
   ]
  },
  {
   "cell_type": "code",
   "execution_count": 10,
   "metadata": {},
   "outputs": [
    {
     "data": {
      "text/html": [
       "<div><style>\n",
       ".dataframe > thead > tr,\n",
       ".dataframe > tbody > tr {\n",
       "  text-align: right;\n",
       "  white-space: pre-wrap;\n",
       "}\n",
       "</style>\n",
       "<small>shape: (43, 2)</small><table border=\"1\" class=\"dataframe\"><thead><tr><th>email</th><th>count</th></tr><tr><td>str</td><td>u32</td></tr></thead><tbody><tr><td>&quot;DD_test@pthubs.com&quot;</td><td>1369948</td></tr><tr><td>&quot;test@hubs.com&quot;</td><td>107788</td></tr><tr><td>&quot;derek.kedziora+test3@hubs.com&quot;</td><td>86</td></tr><tr><td>&quot;test123@hubs.com&quot;</td><td>52</td></tr><tr><td>&quot;ashish.mishra+test@hubs.com&quot;</td><td>31</td></tr><tr><td>&quot;brian.junk+testingmp@hubs.com&quot;</td><td>20</td></tr><tr><td>&quot;derek.kedziora+us-account-test1@hubs.com&quot;</td><td>19</td></tr><tr><td>&quot;agata+test3@3dhubs.com&quot;</td><td>9</td></tr><tr><td>&quot;rob+testcust_customer3@hubs.com&quot;</td><td>6</td></tr><tr><td>&quot;samantha+test@hubs.com&quot;</td><td>6</td></tr><tr><td>&quot;agata+test@3dhubs.com&quot;</td><td>6</td></tr><tr><td>&quot;rob+testcust_mql_updated2@hubs.com&quot;</td><td>5</td></tr><tr><td>&quot;agata+test123@hubs.com&quot;</td><td>5</td></tr><tr><td>&quot;brian+test@hubs.com&quot;</td><td>5</td></tr><tr><td>&quot;protolabs+testmay@derekkedziora.com&quot;</td><td>4</td></tr><tr><td>&quot;rob+testcust_customer@hubs.com&quot;</td><td>4</td></tr><tr><td>&quot;lilla+testemail@hubs.com&quot;</td><td>4</td></tr><tr><td>&quot;agata+testdavid@hubs.com&quot;</td><td>3</td></tr><tr><td>&quot;rob+testmunfactureadblock@3dhubs.com&quot;</td><td>3</td></tr><tr><td>&quot;agata+test11@hubs.com&quot;</td><td>3</td></tr><tr><td>&quot;testingannonymous@hubs.com&quot;</td><td>3</td></tr><tr><td>&quot;rob+testadblock@3dhubs.com&quot;</td><td>3</td></tr><tr><td>&quot;agata+test28-06@hubs.com&quot;</td><td>3</td></tr><tr><td>&quot;testyourplatform@hubs.com&quot;</td><td>2</td></tr><tr><td>&quot;rob+testmanufacture26@3dhubs.com&quot;</td><td>2</td></tr><tr><td>&quot;rob+testbrand53@3dhubs.com&quot;</td><td>2</td></tr><tr><td>&quot;agata+testing@3dhubs.com&quot;</td><td>2</td></tr><tr><td>&quot;test_frontend@hubs.com&quot;</td><td>2</td></tr><tr><td>&quot;alexander.bergsma+test@hubs.com&quot;</td><td>2</td></tr><tr><td>&quot;gabriella+test@hubs.com&quot;</td><td>2</td></tr><tr><td>&quot;christopher+test@3dhubs.com&quot;</td><td>2</td></tr><tr><td>&quot;testingpart@hubs.com&quot;</td><td>2</td></tr><tr><td>&quot;rob+testregsiterform@hubs.com&quot;</td><td>2</td></tr><tr><td>&quot;eric.mobley+test5@protolabs.com&quot;</td><td>2</td></tr><tr><td>&quot;eric.mobley+test2@protolabs.com&quot;</td><td>2</td></tr><tr><td>&quot;george.nutting-test@hubs.com&quot;</td><td>2</td></tr><tr><td>&quot;agata+lttest@hubs.com&quot;</td><td>2</td></tr><tr><td>&quot;testtesttest@hubs.com&quot;</td><td>2</td></tr><tr><td>&quot;eric.mobley+test3@protolabs.com&quot;</td><td>2</td></tr><tr><td>&quot;brian+testingcheckout@3dhubs.com&quot;</td><td>2</td></tr><tr><td>&quot;enido_test@hubs.com&quot;</td><td>2</td></tr><tr><td>&quot;adam+testing-email-first@3dhubs.com&quot;</td><td>2</td></tr><tr><td>&quot;test+lilla@hubs.com&quot;</td><td>1</td></tr></tbody></table></div>"
      ],
      "text/plain": [
       "shape: (43, 2)\n",
       "┌──────────────────────────────────────────┬─────────┐\n",
       "│ email                                    ┆ count   │\n",
       "│ ---                                      ┆ ---     │\n",
       "│ str                                      ┆ u32     │\n",
       "╞══════════════════════════════════════════╪═════════╡\n",
       "│ DD_test@pthubs.com                       ┆ 1369948 │\n",
       "│ test@hubs.com                            ┆ 107788  │\n",
       "│ derek.kedziora+test3@hubs.com            ┆ 86      │\n",
       "│ test123@hubs.com                         ┆ 52      │\n",
       "│ ashish.mishra+test@hubs.com              ┆ 31      │\n",
       "│ brian.junk+testingmp@hubs.com            ┆ 20      │\n",
       "│ derek.kedziora+us-account-test1@hubs.com ┆ 19      │\n",
       "│ agata+test3@3dhubs.com                   ┆ 9       │\n",
       "│ rob+testcust_customer3@hubs.com          ┆ 6       │\n",
       "│ samantha+test@hubs.com                   ┆ 6       │\n",
       "│ agata+test@3dhubs.com                    ┆ 6       │\n",
       "│ rob+testcust_mql_updated2@hubs.com       ┆ 5       │\n",
       "│ agata+test123@hubs.com                   ┆ 5       │\n",
       "│ brian+test@hubs.com                      ┆ 5       │\n",
       "│ protolabs+testmay@derekkedziora.com      ┆ 4       │\n",
       "│ rob+testcust_customer@hubs.com           ┆ 4       │\n",
       "│ lilla+testemail@hubs.com                 ┆ 4       │\n",
       "│ agata+testdavid@hubs.com                 ┆ 3       │\n",
       "│ rob+testmunfactureadblock@3dhubs.com     ┆ 3       │\n",
       "│ agata+test11@hubs.com                    ┆ 3       │\n",
       "│ testingannonymous@hubs.com               ┆ 3       │\n",
       "│ rob+testadblock@3dhubs.com               ┆ 3       │\n",
       "│ agata+test28-06@hubs.com                 ┆ 3       │\n",
       "│ testyourplatform@hubs.com                ┆ 2       │\n",
       "│ rob+testmanufacture26@3dhubs.com         ┆ 2       │\n",
       "│ rob+testbrand53@3dhubs.com               ┆ 2       │\n",
       "│ agata+testing@3dhubs.com                 ┆ 2       │\n",
       "│ test_frontend@hubs.com                   ┆ 2       │\n",
       "│ alexander.bergsma+test@hubs.com          ┆ 2       │\n",
       "│ gabriella+test@hubs.com                  ┆ 2       │\n",
       "│ christopher+test@3dhubs.com              ┆ 2       │\n",
       "│ testingpart@hubs.com                     ┆ 2       │\n",
       "│ rob+testregsiterform@hubs.com            ┆ 2       │\n",
       "│ eric.mobley+test5@protolabs.com          ┆ 2       │\n",
       "│ eric.mobley+test2@protolabs.com          ┆ 2       │\n",
       "│ george.nutting-test@hubs.com             ┆ 2       │\n",
       "│ agata+lttest@hubs.com                    ┆ 2       │\n",
       "│ testtesttest@hubs.com                    ┆ 2       │\n",
       "│ eric.mobley+test3@protolabs.com          ┆ 2       │\n",
       "│ brian+testingcheckout@3dhubs.com         ┆ 2       │\n",
       "│ enido_test@hubs.com                      ┆ 2       │\n",
       "│ adam+testing-email-first@3dhubs.com      ┆ 2       │\n",
       "│ test+lilla@hubs.com                      ┆ 1       │\n",
       "└──────────────────────────────────────────┴─────────┘"
      ]
     },
     "execution_count": 10,
     "metadata": {},
     "output_type": "execute_result"
    }
   ],
   "source": [
    "# top N most active users with emails ending with \"hubs.com\" or have \"protolabs\" in their email that contain the string \"test\"\n",
    "\n",
    "emails_to_not_drop = [\n",
    "    \"van-de-leemputesther@pthubs.com\",  # unfortunate name\n",
    "]\n",
    "\n",
    "df_filter_emails = (\n",
    "    df.filter(\n",
    "        (\n",
    "            (pl.col(\"email\").str.ends_with(\"hubs.com\"))\n",
    "            | (pl.col(\"email\").str.contains(\"protolabs\"))\n",
    "        )\n",
    "        & (pl.col(\"email\").str.contains(\"test\"))\n",
    "        & (~pl.col(\"email\").is_in(emails_to_not_drop))\n",
    "    )\n",
    "    .get_column(\"email\")\n",
    "    .value_counts()\n",
    "    .sort(by=\"count\", descending=True)\n",
    ")\n",
    "\n",
    "df_filter_emails"
   ]
  },
  {
   "cell_type": "code",
   "execution_count": 11,
   "metadata": {},
   "outputs": [
    {
     "name": "stdout",
     "output_type": "stream",
     "text": [
      "Height comparison after removing df_filter_emails \n",
      "Before: 4473662 \n",
      "After:  2652903 \n",
      "Diff:  -1820759\n"
     ]
    }
   ],
   "source": [
    "df_post_filter = df.filter(~pl.col(\"email\").is_in(df_filter_emails.get_column(\"email\")))\n",
    "\n",
    "print(\n",
    "    f\"Height comparison after removing df_filter_emails \\nBefore: {df.height} \\nAfter:  {df_post_filter.height} \\nDiff:  {df_post_filter.height - df.height}\"\n",
    ")"
   ]
  },
  {
   "cell_type": "code",
   "execution_count": 18,
   "metadata": {},
   "outputs": [],
   "source": [
    "df = df.with_columns(quote_email_provider=pl.col(\"email\").str.split(\"@\").list.get(-1))"
   ]
  },
  {
   "cell_type": "code",
   "execution_count": 20,
   "metadata": {},
   "outputs": [
    {
     "data": {
      "text/html": [
       "<div><style>\n",
       ".dataframe > thead > tr,\n",
       ".dataframe > tbody > tr {\n",
       "  text-align: right;\n",
       "  white-space: pre-wrap;\n",
       "}\n",
       "</style>\n",
       "<small>shape: (1_478_055,)</small><table border=\"1\" class=\"dataframe\"><thead><tr><th>order_created</th></tr><tr><td>datetime[μs]</td></tr></thead><tbody><tr><td>2021-03-03 14:08:14.109215</td></tr><tr><td>2021-03-03 14:08:14.109215</td></tr><tr><td>2021-03-05 13:19:15.391199</td></tr><tr><td>2021-03-05 13:19:15.391199</td></tr><tr><td>2021-03-23 13:34:09.804686</td></tr><tr><td>2021-03-23 13:34:09.804686</td></tr><tr><td>2021-03-23 15:29:19.767661</td></tr><tr><td>2021-03-23 15:29:19.767661</td></tr><tr><td>2021-03-23 15:29:19.767661</td></tr><tr><td>2021-03-23 15:29:19.767661</td></tr><tr><td>2021-03-31 09:21:12.044907</td></tr><tr><td>2021-03-31 09:21:12.044907</td></tr><tr><td>2021-04-19 09:57:44.883438</td></tr><tr><td>2021-04-19 09:57:44.883438</td></tr><tr><td>2021-04-19 09:57:44.883438</td></tr><tr><td>2021-04-19 09:57:44.883438</td></tr><tr><td>2021-04-26 13:35:12.793953</td></tr><tr><td>2021-04-26 13:35:12.793953</td></tr><tr><td>2021-04-26 13:38:28.118490</td></tr><tr><td>2021-04-26 13:38:28.118490</td></tr><tr><td>2021-04-26 13:38:28.118490</td></tr><tr><td>2021-05-04 10:17:45.006401</td></tr><tr><td>2021-05-04 10:17:45.006401</td></tr><tr><td>2021-06-02 13:35:24.372644</td></tr><tr><td>2021-06-02 13:35:24.372644</td></tr><tr><td>&hellip;</td></tr><tr><td>2024-07-04 08:33:44.832136</td></tr><tr><td>2024-07-04 08:38:34.305227</td></tr><tr><td>2024-07-04 08:38:34.305227</td></tr><tr><td>2024-07-04 08:38:34.435545</td></tr><tr><td>2024-07-04 08:38:34.435545</td></tr><tr><td>2024-07-04 08:38:35.825961</td></tr><tr><td>2024-07-04 08:38:35.825961</td></tr><tr><td>2024-07-04 08:38:36.396691</td></tr><tr><td>2024-07-04 08:38:36.396691</td></tr><tr><td>2024-07-04 08:38:40.177212</td></tr><tr><td>2024-07-04 08:38:40.177212</td></tr><tr><td>2024-07-04 08:38:42.682891</td></tr><tr><td>2024-07-04 08:38:42.682891</td></tr><tr><td>2024-07-04 08:43:34.508659</td></tr><tr><td>2024-07-04 08:43:34.508659</td></tr><tr><td>2024-07-04 08:43:36.090427</td></tr><tr><td>2024-07-04 08:43:36.090427</td></tr><tr><td>2024-07-04 08:43:36.109696</td></tr><tr><td>2024-07-04 08:43:36.109696</td></tr><tr><td>2024-07-04 08:43:38.114656</td></tr><tr><td>2024-07-04 08:43:38.114656</td></tr><tr><td>2024-07-04 08:43:38.477268</td></tr><tr><td>2024-07-04 08:43:38.477268</td></tr><tr><td>2024-07-04 08:43:45.825370</td></tr><tr><td>2024-07-04 08:43:45.825370</td></tr></tbody></table></div>"
      ],
      "text/plain": [
       "shape: (1_478_055,)\n",
       "Series: 'order_created' [datetime[μs]]\n",
       "[\n",
       "\t2021-03-03 14:08:14.109215\n",
       "\t2021-03-03 14:08:14.109215\n",
       "\t2021-03-05 13:19:15.391199\n",
       "\t2021-03-05 13:19:15.391199\n",
       "\t2021-03-23 13:34:09.804686\n",
       "\t2021-03-23 13:34:09.804686\n",
       "\t2021-03-23 15:29:19.767661\n",
       "\t2021-03-23 15:29:19.767661\n",
       "\t2021-03-23 15:29:19.767661\n",
       "\t2021-03-23 15:29:19.767661\n",
       "\t2021-03-31 09:21:12.044907\n",
       "\t2021-03-31 09:21:12.044907\n",
       "\t2021-04-19 09:57:44.883438\n",
       "\t2021-04-19 09:57:44.883438\n",
       "\t2021-04-19 09:57:44.883438\n",
       "\t2021-04-19 09:57:44.883438\n",
       "\t2021-04-26 13:35:12.793953\n",
       "\t2021-04-26 13:35:12.793953\n",
       "\t2021-04-26 13:38:28.118490\n",
       "\t2021-04-26 13:38:28.118490\n",
       "\t2021-04-26 13:38:28.118490\n",
       "\t2021-05-04 10:17:45.006401\n",
       "\t2021-05-04 10:17:45.006401\n",
       "\t2021-06-02 13:35:24.372644\n",
       "\t2021-06-02 13:35:24.372644\n",
       "\t…\n",
       "\t2024-07-04 08:33:44.832136\n",
       "\t2024-07-04 08:38:34.305227\n",
       "\t2024-07-04 08:38:34.305227\n",
       "\t2024-07-04 08:38:34.435545\n",
       "\t2024-07-04 08:38:34.435545\n",
       "\t2024-07-04 08:38:35.825961\n",
       "\t2024-07-04 08:38:35.825961\n",
       "\t2024-07-04 08:38:36.396691\n",
       "\t2024-07-04 08:38:36.396691\n",
       "\t2024-07-04 08:38:40.177212\n",
       "\t2024-07-04 08:38:40.177212\n",
       "\t2024-07-04 08:38:42.682891\n",
       "\t2024-07-04 08:38:42.682891\n",
       "\t2024-07-04 08:43:34.508659\n",
       "\t2024-07-04 08:43:34.508659\n",
       "\t2024-07-04 08:43:36.090427\n",
       "\t2024-07-04 08:43:36.090427\n",
       "\t2024-07-04 08:43:36.109696\n",
       "\t2024-07-04 08:43:36.109696\n",
       "\t2024-07-04 08:43:38.114656\n",
       "\t2024-07-04 08:43:38.114656\n",
       "\t2024-07-04 08:43:38.477268\n",
       "\t2024-07-04 08:43:38.477268\n",
       "\t2024-07-04 08:43:45.825370\n",
       "\t2024-07-04 08:43:45.825370\n",
       "]"
      ]
     },
     "execution_count": 20,
     "metadata": {},
     "output_type": "execute_result"
    }
   ],
   "source": [
    "df.filter(\n",
    "    (\n",
    "        (pl.col(\"email\").str.ends_with(\"hubs.com\"))\n",
    "        | (pl.col(\"email\").str.contains(\"protolabs\"))\n",
    "    )\n",
    "    & (pl.col(\"email\").str.contains(\"test\"))\n",
    "    & (~pl.col(\"email\").is_in(emails_to_not_drop))\n",
    ").sort(\"order_created\")[\"order_created\"]"
   ]
  },
  {
   "cell_type": "code",
   "execution_count": 12,
   "metadata": {},
   "outputs": [],
   "source": [
    "df_post_filter.write_parquet(\n",
    "    \"/home/rnd/projects/demand-data-exploration/data/df_post_email_filter.parquet\"\n",
    ")"
   ]
  },
  {
   "cell_type": "code",
   "execution_count": null,
   "metadata": {},
   "outputs": [],
   "source": []
  }
 ],
 "metadata": {
  "kernelspec": {
   "display_name": "machining_quote-dev-gpu-v2",
   "language": "python",
   "name": "python3"
  },
  "language_info": {
   "codemirror_mode": {
    "name": "ipython",
    "version": 3
   },
   "file_extension": ".py",
   "mimetype": "text/x-python",
   "name": "python",
   "nbconvert_exporter": "python",
   "pygments_lexer": "ipython3",
   "version": "3.8.17"
  }
 },
 "nbformat": 4,
 "nbformat_minor": 2
}
